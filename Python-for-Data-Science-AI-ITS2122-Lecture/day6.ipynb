{
 "cells": [
  {
   "cell_type": "code",
   "execution_count": null,
   "id": "992f8d0b",
   "metadata": {},
   "outputs": [
    {
     "name": "stdout",
     "output_type": "stream",
     "text": [
      "Parrot speak\n"
     ]
    }
   ],
   "source": [
    "class Animal:\n",
    "    def speak(self):\n",
    "        print(\"Animal speak\")\n",
    "\n",
    "class Parrot(Animal):\n",
    "    def display_info(self):\n",
    "        print(\"somethings\")\n",
    "\n",
    "parrot_1 = Parrot()\n",
    "parrot_1.speak()"
   ]
  },
  {
   "cell_type": "code",
   "execution_count": 6,
   "id": "1fc9af14",
   "metadata": {},
   "outputs": [
    {
     "name": "stdout",
     "output_type": "stream",
     "text": [
      "Parrot speak\n"
     ]
    }
   ],
   "source": [
    "class Animal:\n",
    "    def speak(self):\n",
    "        print(\"Animal speak\")\n",
    "        \n",
    "class Parrot(Animal):\n",
    "    def speak(self):\n",
    "        print(\"Parrot speak\")\n",
    "\n",
    "parrot_1 = Parrot()\n",
    "parrot_1.speak()"
   ]
  },
  {
   "cell_type": "code",
   "execution_count": 12,
   "id": "e2fa71d9",
   "metadata": {},
   "outputs": [
    {
     "name": "stdout",
     "output_type": "stream",
     "text": [
      "Chico\n"
     ]
    }
   ],
   "source": [
    "class Animal:\n",
    "    def __init__(self,name):\n",
    "        self.name = name\n",
    "        \n",
    "class Parrot(Animal):\n",
    "    def speak(self):\n",
    "        print(\"Parrot speak\")\n",
    "\n",
    "parrot_1 = Parrot(\"Chico\")\n",
    "print(parrot_1.name)"
   ]
  },
  {
   "cell_type": "code",
   "execution_count": 20,
   "id": "11c87d8c",
   "metadata": {},
   "outputs": [
    {
     "name": "stdout",
     "output_type": "stream",
     "text": [
      "Parrot\n",
      "Green\n"
     ]
    }
   ],
   "source": [
    "class Animal:\n",
    "    def __init__(self, name):\n",
    "        self.name = name\n",
    "        \n",
    "class Parrot(Animal):\n",
    "    def __init__(self, name, color):\n",
    "        self.color = color\n",
    "        super().__init__(name)\n",
    "\n",
    "    def speak(self):\n",
    "        print(\"Parrot speak\")\n",
    "\n",
    "parrot_1 = Parrot(\"Parrot\", \"Green\")\n",
    "print(parrot_1.name)  \n",
    "print(parrot_1.color) \n"
   ]
  },
  {
   "cell_type": "code",
   "execution_count": null,
   "id": "af5c015d",
   "metadata": {},
   "outputs": [
    {
     "name": "stdout",
     "output_type": "stream",
     "text": [
      "Name: Janaka\n",
      "Salary: 60000\n",
      "Department: Financial\n"
     ]
    }
   ],
   "source": [
    "class Employee:\n",
    "    def __init__(self, name, salary):\n",
    "        self.name = name\n",
    "        self.salary = salary\n",
    "    \n",
    "    def display_info(self):\n",
    "        print(f\"Name: {self.name}\")\n",
    "        print(f\"Salary: {self.salary}\")\n",
    "\n",
    "class Manager(Employee):\n",
    "    def __init__(self, name, salary, department):\n",
    "        super().__init__(name, salary)\n",
    "        self.department = department \n",
    "\n",
    "    def display_info(self):\n",
    "        super().display_info() \n",
    "        print(f\"Department: {self.department}\")\n",
    "\n",
    "finance_manager = Manager(\"Janaka\", 60000, \"Financial\")\n",
    "finance_manager.display_info()\n"
   ]
  },
  {
   "cell_type": "code",
   "execution_count": 27,
   "id": "3782808e",
   "metadata": {},
   "outputs": [
    {
     "name": "stdout",
     "output_type": "stream",
     "text": [
      "Bark\n",
      "Meow\n"
     ]
    }
   ],
   "source": [
    "class Animal:\n",
    "    def speak(self):\n",
    "        print(\"Speak animal\")\n",
    "\n",
    "class Dog(Animal):\n",
    "    def speak(self):\n",
    "        print(\"Bark\")\n",
    "\n",
    "class Cat(Animal):\n",
    "    def speak(self):\n",
    "        print(\"Meow\")\n",
    "\n",
    "dog_1 = Dog()\n",
    "dog_1.speak()\n",
    "\n",
    "cat_1 = Cat()\n",
    "cat_1.speak()"
   ]
  },
  {
   "cell_type": "code",
   "execution_count": null,
   "id": "5e259afc",
   "metadata": {},
   "outputs": [
    {
     "name": "stdout",
     "output_type": "stream",
     "text": [
      "Achini\n"
     ]
    }
   ],
   "source": [
    "class Person:\n",
    "    def __init__(self):\n",
    "        self._name = \"Achini\"\n",
    "    \n",
    "class Employee(Person):\n",
    "    def display(self):\n",
    "        print(self._name)\n",
    "    \n",
    "# employee_ = Employee()\n",
    "# print(e._name)  Technically allowed, but not recommended\n",
    "\n",
    "employee_1 = Employee()\n",
    "employee_1.display()  "
   ]
  },
  {
   "cell_type": "code",
   "execution_count": 35,
   "id": "7f082e64",
   "metadata": {},
   "outputs": [
    {
     "name": "stdout",
     "output_type": "stream",
     "text": [
      "John\n"
     ]
    }
   ],
   "source": [
    "class Person:\n",
    "    def __init__(self):\n",
    "        self.__name = \"John\"\n",
    "        \n",
    "    def get_name(self):\n",
    "        return self.__name\n",
    "\n",
    "p = Person()\n",
    "print(p.get_name())\n",
    "# print(p.__name) AttributeError"
   ]
  },
  {
   "cell_type": "code",
   "execution_count": null,
   "id": "2d26ac95",
   "metadata": {},
   "outputs": [
    {
     "name": "stdout",
     "output_type": "stream",
     "text": [
      "Owner Name: John, Current Balance: 0.0\n",
      "Deposit amount: 1000\n",
      "Owner Name: John, Current Balance: 1000.0\n",
      "Withdrew: 500\n"
     ]
    },
    {
     "data": {
      "text/plain": [
       "500.0"
      ]
     },
     "execution_count": 68,
     "metadata": {},
     "output_type": "execute_result"
    }
   ],
   "source": [
    "class BankAccount:\n",
    "    def __init__(self, account_number, owner_name):\n",
    "        self.__account_number = account_number\n",
    "        self.__owner_name = owner_name\n",
    "        self.__balance = 0.0\n",
    "\n",
    "    def display_account(self):\n",
    "        print(f\"Owner Name: {self.__owner_name}, Current Balance: {self.__balance}\")\n",
    "\n",
    "    def deposit(self, amount):\n",
    "        if self.__validate_amount(amount):\n",
    "            self.__balance += amount\n",
    "            print(f\"Deposit amount: {amount}\")\n",
    "        else:\n",
    "            print(\"Must be positive.\")\n",
    "\n",
    "    def withdraw(self, amount):\n",
    "        if self.__validate_amount(amount) and amount <= self.__balance:\n",
    "            self.__balance -= amount\n",
    "            print(f\"Withdrew: {amount}\")  \n",
    "        else:\n",
    "            print(\"Insufficient balance or invalid amount.\")\n",
    "\n",
    "    def get_balance(self):\n",
    "        return self.__balance\n",
    "\n",
    "    def __validate_amount(self, amount):\n",
    "        return amount > 0\n",
    "\n",
    "b = BankAccount(10245322, \"John\")\n",
    "b.display_account()\n",
    "b.deposit(1000)\n",
    "b.display_account()\n",
    "b.withdraw(500)\n",
    "b.get_balance()\n"
   ]
  },
  {
   "cell_type": "code",
   "execution_count": 71,
   "id": "e44dfcf8",
   "metadata": {},
   "outputs": [
    {
     "name": "stdout",
     "output_type": "stream",
     "text": [
      "Hi Guys! Hope everthing is good. I'm fine too.\n",
      "This is much better.\n",
      "This is even better.\n",
      "I love AI.\n"
     ]
    }
   ],
   "source": [
    "file_1 = open(\"my_file.txt\")\n",
    "\n",
    "read_content = file_1.read()\n",
    "print(read_content)\n",
    "\n",
    "file_1.close()"
   ]
  },
  {
   "cell_type": "code",
   "execution_count": 77,
   "id": "28e6358d",
   "metadata": {},
   "outputs": [
    {
     "name": "stdout",
     "output_type": "stream",
     "text": [
      "Hi Guys! Hope everthing is good. I'm fine too.\n",
      "\n",
      "This is much better.\n",
      "\n",
      "This is even better.\n",
      "\n",
      "I love AI.\n"
     ]
    }
   ],
   "source": [
    "file_1 = open(\"my_file.txt\")\n",
    "\n",
    "line_1 = file_1.readline()\n",
    "print(line_1)\n",
    "\n",
    "line_2 = file_1.readline()\n",
    "print(line_2)\n",
    "\n",
    "line_3 = file_1.readline()\n",
    "print(line_3)\n",
    "\n",
    "line_4 = file_1.readline()\n",
    "print(line_4)\n",
    "\n",
    "file_1.close()"
   ]
  },
  {
   "cell_type": "code",
   "execution_count": 79,
   "id": "db95157e",
   "metadata": {},
   "outputs": [
    {
     "name": "stdout",
     "output_type": "stream",
     "text": [
      "Hi Guys! Hope everthing is good. I'm fine too.\n",
      "This is much better.\n",
      "This is even better.\n",
      "I love AI.\n"
     ]
    }
   ],
   "source": [
    "file_1 = open(\"my_file.txt\")\n",
    "\n",
    "while True:\n",
    "    line = file_1.readline()\n",
    "    if not line:\n",
    "        break\n",
    "    print(line.strip())\n",
    "    #  removes the newline character at the end of each"
   ]
  },
  {
   "cell_type": "code",
   "execution_count": 80,
   "id": "7ae52054",
   "metadata": {},
   "outputs": [
    {
     "name": "stdout",
     "output_type": "stream",
     "text": [
      "[\"Hi Guys! Hope everthing is good. I'm fine too.\\n\", 'This is much better.\\n', 'This is even better.\\n', 'I love AI.']\n"
     ]
    }
   ],
   "source": [
    "file_1 = open(\"my_file.txt\")\n",
    "lines = file_1.readlines()\n",
    "\n",
    "print(lines)\n",
    "\n",
    "file_1.close()"
   ]
  },
  {
   "cell_type": "code",
   "execution_count": 83,
   "id": "d4662393",
   "metadata": {},
   "outputs": [
    {
     "name": "stdout",
     "output_type": "stream",
     "text": [
      "Hi Guys! Hope everthing is good. I'm fine too.\n",
      "This is much better.\n",
      "This is even better.\n",
      "I love AI.\n"
     ]
    }
   ],
   "source": [
    "file_1 = open(\"my_file.txt\")\n",
    "lines = file_1.readlines()\n",
    "\n",
    "for line in lines:\n",
    "    print(line.strip())\n",
    "\n",
    "file_1.close()"
   ]
  },
  {
   "cell_type": "code",
   "execution_count": 84,
   "id": "4df63d69",
   "metadata": {},
   "outputs": [
    {
     "name": "stdout",
     "output_type": "stream",
     "text": [
      "Hi Guys! Hope everthing is good. I'm fine too.\n",
      "This is much better.\n",
      "This is even better.\n",
      "I love AI.\n"
     ]
    }
   ],
   "source": [
    "with open(\"my_file.txt\", \"r\") as file:\n",
    "    content = file.read()\n",
    "    print(content)"
   ]
  },
  {
   "cell_type": "code",
   "execution_count": 87,
   "id": "ebea0ad3",
   "metadata": {},
   "outputs": [],
   "source": [
    "with open(\"my_file_1.txt\",\"w\") as file:\n",
    "    file.write(\"This is awesome.\\n\")\n",
    "    file.write(\"Programming is fun.\\n\")"
   ]
  },
  {
   "cell_type": "code",
   "execution_count": 88,
   "id": "8daa1527",
   "metadata": {},
   "outputs": [],
   "source": [
    "with open(\"my_file_1.txt\",\"w\") as file:\n",
    "    file.write(\"Hello World.\\n\")\n"
   ]
  },
  {
   "cell_type": "code",
   "execution_count": 95,
   "id": "e8c93b1d",
   "metadata": {},
   "outputs": [],
   "source": [
    "with open(\"test_file.txt\",\"w\") as file_1:\n",
    "    lines = [\"This is new\\n\", \"writelines() method\\n\"]\n",
    "    file_1.writelines(lines)"
   ]
  },
  {
   "cell_type": "code",
   "execution_count": null,
   "id": "e02eaa23",
   "metadata": {},
   "outputs": [],
   "source": [
    "with open(\"test_file.txt\",\"a\") as file:\n",
    "    file.write(\"Hello World.\\n\")"
   ]
  },
  {
   "cell_type": "code",
   "execution_count": 98,
   "id": "1ece5d27",
   "metadata": {},
   "outputs": [],
   "source": [
    "import json\n",
    "\n",
    "with open(\"test.json\",\"r\") as json_file:\n",
    "    data = json.load(json_file)"
   ]
  },
  {
   "cell_type": "code",
   "execution_count": 99,
   "id": "071fc469",
   "metadata": {},
   "outputs": [
    {
     "name": "stdout",
     "output_type": "stream",
     "text": [
      "<class 'dict'>\n",
      "{'name': 'John Doe', 'age': 30, 'isStudent': False, 'hobbies': ['reading', 'gardening', 'swimming']}\n"
     ]
    }
   ],
   "source": [
    "import json\n",
    "\n",
    "with open(\"test.json\",\"r\") as json_file:\n",
    "    data = json.load(json_file)\n",
    "    print(type(data))\n",
    "    print(data)"
   ]
  },
  {
   "cell_type": "code",
   "execution_count": 101,
   "id": "499fc9c8",
   "metadata": {},
   "outputs": [],
   "source": [
    "import json\n",
    "\n",
    "data = {\n",
    "    \"name\" : \"Achini Pramodhya\",\n",
    "    \"age\" : 22,\n",
    "    \"city\" : \"Galle\"\n",
    "}\n",
    "\n",
    "with open(\"my.json.json\",\"w\") as json_file:\n",
    "    json.dump(data, json_file, indent=4)"
   ]
  },
  {
   "cell_type": "code",
   "execution_count": 2,
   "id": "b3fe1bfa",
   "metadata": {},
   "outputs": [
    {
     "name": "stdout",
     "output_type": "stream",
     "text": [
      "['Name', 'Age', 'Occupation']\n",
      "['John Doe', '30', 'Engineer']\n",
      "['Jane Smith', '25', 'Teacher']\n",
      "['Bob Johnson', '40', 'Doctor']\n",
      "['Alice Brown', '35', 'Artist']\n"
     ]
    }
   ],
   "source": [
    "import csv \n",
    "\n",
    "with open(\"test.csv\",\"r\", newline='') as csv_file:\n",
    "    csv_reader = csv.reader(csv_file)\n",
    "    # print(type(csv_reader))\n",
    "\n",
    "    for row in csv_reader:\n",
    "        print(row)"
   ]
  },
  {
   "cell_type": "code",
   "execution_count": 12,
   "id": "de640ea9",
   "metadata": {},
   "outputs": [
    {
     "name": "stdout",
     "output_type": "stream",
     "text": [
      "{'Name': 'John Doe', 'Age': '30', 'Occupation': 'Engineer'}\n",
      "{'Name': 'Jane Smith', 'Age': '25', 'Occupation': 'Teacher'}\n",
      "{'Name': 'Bob Johnson', 'Age': '40', 'Occupation': 'Doctor'}\n",
      "{'Name': 'Alice Brown', 'Age': '35', 'Occupation': 'Artist'}\n"
     ]
    }
   ],
   "source": [
    "import csv\n",
    "\n",
    "with open(\"test.csv\", \"r\", newline='') as csv_file:\n",
    "    csv_reader = csv.DictReader(csv_file)\n",
    "\n",
    "    for raw in csv_reader:\n",
    "        print(raw)"
   ]
  },
  {
   "cell_type": "code",
   "execution_count": null,
   "id": "54847051",
   "metadata": {},
   "outputs": [],
   "source": [
    "import csv\n",
    "\n",
    "data = [\n",
    "    {'Name': 'John Doe', 'Age': '30', 'City': 'New York'},\n",
    "    {'Name': 'Jane Smith', 'Age': '25', 'City': 'Los Angeles'},\n",
    "    {'Name': 'Bob Johnson', 'Age': '40', 'City': 'Chicago'},\n",
    "]\n",
    "\n",
    "fieldnames = [\"Name\",\"Age\",\"City\"]\n",
    "\n",
    "with open(\"my_csv.csv\", \"w\", newline='') as csv_file:\n",
    "    csv_writer = csv.DictWriter(csv_file, fieldnames = fieldnames)\n",
    "\n",
    "    csv_writer.writeheader\n",
    "    csv_writer.writerows(data)\n"
   ]
  },
  {
   "cell_type": "code",
   "execution_count": null,
   "id": "59437945",
   "metadata": {},
   "outputs": [],
   "source": []
  }
 ],
 "metadata": {
  "kernelspec": {
   "display_name": "Python 3",
   "language": "python",
   "name": "python3"
  },
  "language_info": {
   "codemirror_mode": {
    "name": "ipython",
    "version": 3
   },
   "file_extension": ".py",
   "mimetype": "text/x-python",
   "name": "python",
   "nbconvert_exporter": "python",
   "pygments_lexer": "ipython3",
   "version": "3.13.3"
  }
 },
 "nbformat": 4,
 "nbformat_minor": 5
}
