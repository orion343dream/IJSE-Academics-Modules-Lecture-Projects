{
 "cells": [
  {
   "cell_type": "code",
   "execution_count": 4,
   "id": "80cbaa64",
   "metadata": {},
   "outputs": [
    {
     "name": "stdout",
     "output_type": "stream",
     "text": [
      "[ 5  8  3 10]\n",
      "<class 'numpy.ndarray'>\n"
     ]
    }
   ],
   "source": [
    "import numpy as np\n",
    "\n",
    "arr = np.array([5, 8, 3, 10])\n",
    "print(arr)\n",
    "print(type(arr))"
   ]
  },
  {
   "cell_type": "code",
   "execution_count": 10,
   "id": "535172a3",
   "metadata": {},
   "outputs": [
    {
     "name": "stdout",
     "output_type": "stream",
     "text": [
      "[11 10 11 21]\n"
     ]
    }
   ],
   "source": [
    "import numpy as np\n",
    "\n",
    "arr_1 = np.array([5, 8, 3, 10])\n",
    "arr_2 = np.array([6, 2, 8, 11])\n",
    "\n",
    "result_addition = arr_1 + arr_2\n",
    "print(result_addition)\n"
   ]
  },
  {
   "cell_type": "code",
   "execution_count": null,
   "id": "ad6cbe96",
   "metadata": {},
   "outputs": [
    {
     "name": "stdout",
     "output_type": "stream",
     "text": [
      "[-1  6 -5 -1]\n"
     ]
    }
   ],
   "source": [
    "result_subtraction = arr_1 - arr_2\n",
    "print(result_subtraction)"
   ]
  },
  {
   "cell_type": "code",
   "execution_count": 8,
   "id": "b7439972",
   "metadata": {},
   "outputs": [
    {
     "name": "stdout",
     "output_type": "stream",
     "text": [
      "[ 30  16  24 110]\n"
     ]
    }
   ],
   "source": [
    "result_multiple = arr_1 * arr_2\n",
    "print(result_multiple)"
   ]
  },
  {
   "cell_type": "code",
   "execution_count": 11,
   "id": "d83382a8",
   "metadata": {},
   "outputs": [
    {
     "name": "stdout",
     "output_type": "stream",
     "text": [
      "[0.83333333 4.         0.375      0.90909091]\n"
     ]
    }
   ],
   "source": [
    "result_devision = arr_1 / arr_2\n",
    "print(result_devision)"
   ]
  },
  {
   "cell_type": "code",
   "execution_count": 12,
   "id": "54f4148f",
   "metadata": {},
   "outputs": [
    {
     "name": "stdout",
     "output_type": "stream",
     "text": [
      "[ 4.  3.  6. 10.]\n"
     ]
    }
   ],
   "source": [
    "arr_1 = np.array([16, 9, 36, 100])\n",
    "print(np.sqrt(arr_1))"
   ]
  },
  {
   "cell_type": "code",
   "execution_count": 13,
   "id": "cd26a428",
   "metadata": {},
   "outputs": [
    {
     "name": "stdout",
     "output_type": "stream",
     "text": [
      "161\n"
     ]
    }
   ],
   "source": [
    "print(np.sum(arr_1))"
   ]
  },
  {
   "cell_type": "code",
   "execution_count": 17,
   "id": "c0566483",
   "metadata": {},
   "outputs": [
    {
     "name": "stdout",
     "output_type": "stream",
     "text": [
      "100\n"
     ]
    }
   ],
   "source": [
    "print(np.max(arr_1))\n"
   ]
  },
  {
   "cell_type": "code",
   "execution_count": 16,
   "id": "ddae209d",
   "metadata": {},
   "outputs": [
    {
     "name": "stdout",
     "output_type": "stream",
     "text": [
      "9\n"
     ]
    }
   ],
   "source": [
    "print(np.min(arr_1))"
   ]
  },
  {
   "cell_type": "code",
   "execution_count": null,
   "id": "1207734c",
   "metadata": {},
   "outputs": [
    {
     "name": "stdout",
     "output_type": "stream",
     "text": [
      "[[ 9 10  5]\n",
      " [ 8 12 20]]\n",
      "6\n",
      "(2, 3)\n",
      "2\n"
     ]
    }
   ],
   "source": [
    "arr_1 = np.array([[9, 10, 5] , [8, 12, 20] ])\n",
    "print(arr_1)  \n",
    "print(arr_1.size)\n",
    "print(arr_1.shape)\n",
    "print(arr_1.ndim)"
   ]
  },
  {
   "cell_type": "code",
   "execution_count": null,
   "id": "9505cfc1",
   "metadata": {},
   "outputs": [
    {
     "name": "stdout",
     "output_type": "stream",
     "text": [
      "12\n",
      "3\n",
      "(2, 2, 3)\n"
     ]
    }
   ],
   "source": [
    "arr_1 = np.array([[[9, 10, 5], [8, 12, 20]], [[1, 2, 3], [4, 5, 6]]])\n",
    "print(arr_1.size)\n",
    "print(arr_1.shape)\n",
    "print(arr_1.ndim)"
   ]
  },
  {
   "cell_type": "code",
   "execution_count": 33,
   "id": "37e931a9",
   "metadata": {},
   "outputs": [
    {
     "name": "stdout",
     "output_type": "stream",
     "text": [
      "int64\n"
     ]
    }
   ],
   "source": [
    "array = np.array([1, 2, True ])\n",
    "print(array.dtype)"
   ]
  },
  {
   "cell_type": "code",
   "execution_count": 36,
   "id": "eee02a3e",
   "metadata": {},
   "outputs": [
    {
     "name": "stdout",
     "output_type": "stream",
     "text": [
      "10\n",
      "3\n"
     ]
    }
   ],
   "source": [
    "arr_2 = np.array([[5, 3, 8], [4, 9, 10]])\n",
    "print(arr_2[1, 2]) \n",
    "print(arr_2[-2, -2])"
   ]
  },
  {
   "cell_type": "code",
   "execution_count": 37,
   "id": "6fa68b13",
   "metadata": {},
   "outputs": [
    {
     "name": "stdout",
     "output_type": "stream",
     "text": [
      "[ True False  True  True False]\n"
     ]
    }
   ],
   "source": [
    "arr = np.array([30, 10, 40, 50, 20])\n",
    "condition = arr > 25\n",
    "print(condition)"
   ]
  },
  {
   "cell_type": "code",
   "execution_count": 38,
   "id": "4d88e9c8",
   "metadata": {},
   "outputs": [
    {
     "name": "stdout",
     "output_type": "stream",
     "text": [
      "[30 40 50]\n"
     ]
    }
   ],
   "source": [
    "print(arr[condition]) "
   ]
  },
  {
   "cell_type": "code",
   "execution_count": 39,
   "id": "c43c3f52",
   "metadata": {},
   "outputs": [
    {
     "name": "stdout",
     "output_type": "stream",
     "text": [
      "[30 40 50]\n"
     ]
    }
   ],
   "source": [
    "print(arr[arr > 25])  "
   ]
  },
  {
   "cell_type": "code",
   "execution_count": null,
   "id": "893ae133",
   "metadata": {},
   "outputs": [
    {
     "name": "stdout",
     "output_type": "stream",
     "text": [
      "[30 40]\n"
     ]
    }
   ],
   "source": [
    "arr = np.array([30, 10, 40, 50, 20])\n",
    "print(arr[(arr > 25) & (arr < 45)])"
   ]
  },
  {
   "cell_type": "code",
   "execution_count": 54,
   "id": "621a64ac",
   "metadata": {},
   "outputs": [
    {
     "name": "stdout",
     "output_type": "stream",
     "text": [
      "29.666666666666668\n",
      "[31 30 32 31 34 35 31 30]\n"
     ]
    }
   ],
   "source": [
    "body_tempreture = np.array([\n",
    "    [31, 30, 28], \n",
    "    [29, 29, 32],\n",
    "    [26, 24, 27], \n",
    "    [31, 34, 35], \n",
    "    [28, 31, 30]\n",
    "    ])\n",
    "\n",
    "daily_average = np.mean(body_tempreture)\n",
    "# daily_average = np.sum(body_tempreture)/(body_tempreture.size)\n",
    "print(daily_average)\n",
    "\n",
    "print(body_tempreture[body_tempreture > daily_average])\n"
   ]
  },
  {
   "cell_type": "code",
   "execution_count": null,
   "id": "98b4c4dc",
   "metadata": {},
   "outputs": [
    {
     "name": "stdout",
     "output_type": "stream",
     "text": [
      "[[0. 0. 0.]\n",
      " [0. 0. 0.]]\n",
      "[0. 0. 0. 0. 0.]\n",
      "[[1. 1. 1.]\n",
      " [1. 1. 1.]]\n",
      "[1. 1. 1. 1. 1.]\n"
     ]
    }
   ],
   "source": [
    "print(np.zeros((2, 3))) \n",
    "print(np.zeros(5))\n"
   ]
  },
  {
   "cell_type": "code",
   "execution_count": 60,
   "id": "e6a64ff2",
   "metadata": {},
   "outputs": [
    {
     "name": "stdout",
     "output_type": "stream",
     "text": [
      "[[1. 1. 1.]\n",
      " [1. 1. 1.]]\n",
      "[1. 1. 1. 1. 1.]\n"
     ]
    }
   ],
   "source": [
    "print(np.ones((2, 3)))                  \n",
    "print(np.ones(5))"
   ]
  },
  {
   "cell_type": "code",
   "execution_count": 62,
   "id": "ff4b3f72",
   "metadata": {},
   "outputs": [
    {
     "name": "stdout",
     "output_type": "stream",
     "text": [
      "[[7 7 7]\n",
      " [7 7 7]]\n",
      "[7 7 7 7 7]\n"
     ]
    }
   ],
   "source": [
    "print(np.full((2, 3), 7))\n",
    "print(np.full(5, 7))"
   ]
  },
  {
   "cell_type": "code",
   "execution_count": 68,
   "id": "354cc421",
   "metadata": {},
   "outputs": [
    {
     "name": "stdout",
     "output_type": "stream",
     "text": [
      "[[1 2 3]\n",
      " [1 2 3]]\n"
     ]
    }
   ],
   "source": [
    "print(np.full((2, 3), (1,2,3)))"
   ]
  },
  {
   "cell_type": "code",
   "execution_count": 69,
   "id": "1e16473b",
   "metadata": {},
   "outputs": [
    {
     "name": "stdout",
     "output_type": "stream",
     "text": [
      "[[4.9e-324 9.9e-324 1.5e-323]\n",
      " [4.9e-324 9.9e-324 1.5e-323]]\n"
     ]
    }
   ],
   "source": [
    "print(np.empty((2, 3)))"
   ]
  },
  {
   "cell_type": "code",
   "execution_count": 23,
   "id": "96296103",
   "metadata": {},
   "outputs": [
    {
     "name": "stdout",
     "output_type": "stream",
     "text": [
      "      Name  Age\n",
      "0    Alice   25\n",
      "1      Bob   30\n",
      "2  Charlie   35\n",
      "3    David   40\n"
     ]
    }
   ],
   "source": [
    "import pandas as pd\n",
    "\n",
    "data = {\n",
    "    'Name': ['Alice', 'Bob', 'Charlie', 'David'],\n",
    "    'Age': [25, 30, 35, 40],}\n",
    "\n",
    "df = pd.DataFrame(data)\n",
    "print(df)\n"
   ]
  },
  {
   "cell_type": "code",
   "execution_count": 5,
   "id": "855acdc9",
   "metadata": {},
   "outputs": [
    {
     "name": "stdout",
     "output_type": "stream",
     "text": [
      "Alice\n",
      "35\n"
     ]
    }
   ],
   "source": [
    "print(df.loc[0,'Name'])\n",
    "print(df.iloc[2, 1])  # Accessing by index"
   ]
  },
  {
   "cell_type": "code",
   "execution_count": 88,
   "id": "1020292a",
   "metadata": {},
   "outputs": [
    {
     "name": "stdout",
     "output_type": "stream",
     "text": [
      "Name    Charlie\n",
      "Age          35\n",
      "Name: 2, dtype: object\n",
      "Name    Charlie\n",
      "Age          35\n",
      "Name: 2, dtype: object\n"
     ]
    }
   ],
   "source": [
    "print(df.loc[2])  \n",
    "print(df.iloc[2]) "
   ]
  },
  {
   "cell_type": "code",
   "execution_count": 25,
   "id": "b4debd32",
   "metadata": {},
   "outputs": [
    {
     "name": "stdout",
     "output_type": "stream",
     "text": [
      "              Name  Age\n",
      "student_1    Alice   25\n",
      "student_2      Bob   30\n",
      "student_3  Charlie   35\n",
      "student_4    David   40\n"
     ]
    }
   ],
   "source": [
    "df = pd.DataFrame(data, index=['student_1', 'student_2', 'student_3', 'student_4'])\n",
    "print(df)\n"
   ]
  },
  {
   "cell_type": "code",
   "execution_count": 7,
   "id": "8c244b7b",
   "metadata": {},
   "outputs": [
    {
     "name": "stdout",
     "output_type": "stream",
     "text": [
      "Name    Charlie\n",
      "Age          35\n",
      "Name: student_3, dtype: object\n",
      "Name    Bob\n",
      "Age      30\n",
      "Name: student_2, dtype: object\n"
     ]
    }
   ],
   "source": [
    "print(df.loc['student_3'])\n",
    "print(df.iloc[1]) "
   ]
  },
  {
   "cell_type": "code",
   "execution_count": 101,
   "id": "299b00ae",
   "metadata": {},
   "outputs": [
    {
     "name": "stdout",
     "output_type": "stream",
     "text": [
      "              Name  Age\n",
      "student_1    Alice   25\n",
      "student_3  Charlie   35\n"
     ]
    }
   ],
   "source": [
    "print(df.loc[['student_1', 'student_3']])"
   ]
  },
  {
   "cell_type": "code",
   "execution_count": 108,
   "id": "207cf976",
   "metadata": {},
   "outputs": [
    {
     "name": "stdout",
     "output_type": "stream",
     "text": [
      "           Age\n",
      "student_1   25\n",
      "student_2   30\n",
      "student_3   35\n",
      "student_4   40\n"
     ]
    }
   ],
   "source": [
    "age_column = df[['Age']]\n",
    "print(age_column)"
   ]
  },
  {
   "cell_type": "code",
   "execution_count": 113,
   "id": "349df0b6",
   "metadata": {},
   "outputs": [
    {
     "name": "stdout",
     "output_type": "stream",
     "text": [
      "Index(['Name', 'Age'], dtype='object')\n",
      "['Name', 'Age']\n"
     ]
    }
   ],
   "source": [
    "print(df.columns)  # Displaying column names\n",
    "print(list(df.columns))  "
   ]
  },
  {
   "cell_type": "code",
   "execution_count": null,
   "id": "96adf515",
   "metadata": {},
   "outputs": [
    {
     "name": "stdout",
     "output_type": "stream",
     "text": [
      "Index(['student_1', 'student_2', 'student_3', 'student_4'], dtype='object')\n",
      "['student_1', 'student_2', 'student_3', 'student_4']\n"
     ]
    }
   ],
   "source": [
    "print(df.index)  # Displaying index names\n",
    "print(list(df.index)) "
   ]
  },
  {
   "cell_type": "code",
   "execution_count": 8,
   "id": "0b14ace8",
   "metadata": {},
   "outputs": [
    {
     "name": "stdout",
     "output_type": "stream",
     "text": [
      "8\n",
      "(4, 2)\n",
      "4\n"
     ]
    }
   ],
   "source": [
    "print(df.size)\n",
    "print(df.shape)\n",
    "print(len(df))  # Number of rows"
   ]
  },
  {
   "cell_type": "code",
   "execution_count": null,
   "id": "f8450d25",
   "metadata": {},
   "outputs": [
    {
     "name": "stdout",
     "output_type": "stream",
     "text": [
      "[['Alice' 25]\n",
      " ['Bob' 30]\n",
      " ['Charlie' 35]\n",
      " ['David' 40]]\n",
      "<class 'numpy.ndarray'>\n"
     ]
    }
   ],
   "source": [
    "# Converting DataFrame to NumPy array\n",
    "print(df.values) \n",
    "print(type(df.values))"
   ]
  },
  {
   "cell_type": "code",
   "execution_count": 12,
   "id": "7a4db2cd",
   "metadata": {},
   "outputs": [
    {
     "name": "stdout",
     "output_type": "stream",
     "text": [
      "32.5\n",
      "130\n"
     ]
    }
   ],
   "source": [
    "print(df['Age'].mean()) \n",
    "print(df['Age'].sum()) "
   ]
  },
  {
   "cell_type": "code",
   "execution_count": 36,
   "id": "63ac6814",
   "metadata": {},
   "outputs": [
    {
     "name": "stdout",
     "output_type": "stream",
     "text": [
      "              Name  Age         City  Salary\n",
      "student_1    Alice   25     New York   50000\n",
      "student_2      Bob   30  Los Angeles   60000\n",
      "student_3  Charlie   35      Chicago   70000\n",
      "student_4    David   40      Houston   80000\n"
     ]
    }
   ],
   "source": [
    "# How to add a new column to the DataFrame\n",
    "df['City'] = ['New York', 'Los Angeles', 'Chicago', 'Houston']\n",
    "df['Salary'] = [50000, 60000, 70000, 80000]\n",
    "print(df)"
   ]
  },
  {
   "cell_type": "code",
   "execution_count": 37,
   "id": "dcc90866",
   "metadata": {},
   "outputs": [
    {
     "name": "stdout",
     "output_type": "stream",
     "text": [
      "              Name  Age     City  Salary\n",
      "student_3  Charlie   35  Chicago   70000\n",
      "student_4    David   40  Houston   80000\n",
      "<class 'pandas.core.frame.DataFrame'>\n"
     ]
    }
   ],
   "source": [
    "filtered_df = df[df['Age'] > 30]\n",
    "print(filtered_df)\n",
    "print(type(filtered_df))"
   ]
  },
  {
   "cell_type": "code",
   "execution_count": 38,
   "id": "9b0ed480",
   "metadata": {},
   "outputs": [
    {
     "name": "stdout",
     "output_type": "stream",
     "text": [
      "          Name  Age         City  Salary\n",
      "student_2  Bob   30  Los Angeles   60000\n"
     ]
    }
   ],
   "source": [
    "filtered_df = df[(df['Age'] > 28) & (df['Salary'] < 65000)]\n",
    "print(filtered_df)"
   ]
  },
  {
   "cell_type": "code",
   "execution_count": null,
   "id": "a77b7a12",
   "metadata": {},
   "outputs": [
    {
     "name": "stdout",
     "output_type": "stream",
     "text": [
      "   StudentID      Name  Assginment1  Assginment2  FinalExam\n",
      "0       1001    Ayesha           78           85         90\n",
      "1       1002     Nimal           65           70         72\n",
      "2       1003  Tharindu           88           90         95\n",
      "3       1004     Kasun           50           45         60\n",
      "4       1005  Shashini           80           75         85\n"
     ]
    }
   ],
   "source": [
    "#  1 Question:\n",
    "data = {\"StudentID\":[1001, 1002, 1003, 1004, 1005],\n",
    "        \"Name\":[\"Ayesha\",\"Nimal\",\"Tharindu\",\"Kasun\",\"Shashini\"],\n",
    "        \"Assginment1\":[78, 65, 88, 50, 80],\n",
    "        \"Assginment2\":[85, 70, 90, 45, 75],\n",
    "        \"FinalExam\":[90, 72, 95, 60, 85]\n",
    "        }\n",
    "\n",
    "df = pd.DataFrame(data)\n",
    "print(df)\n"
   ]
  },
  {
   "cell_type": "code",
   "execution_count": null,
   "id": "2341db9c",
   "metadata": {},
   "outputs": [
    {
     "name": "stdout",
     "output_type": "stream",
     "text": [
      "       Name  FinalExam\n",
      "0    Ayesha         90\n",
      "2  Tharindu         95\n",
      "4  Shashini         85\n"
     ]
    }
   ],
   "source": [
    "# 2 Question:\n",
    "print(df[df[\"FinalExam\"] > 80] [[\"Name\",\"FinalExam\"]]) "
   ]
  },
  {
   "cell_type": "code",
   "execution_count": 72,
   "id": "91ad118a",
   "metadata": {},
   "outputs": [
    {
     "name": "stdout",
     "output_type": "stream",
     "text": [
      "   StudentID      Name  Assginment1  Assginment2  FinalExam    Average\n",
      "0       1001    Ayesha           78           85         90  84.333333\n",
      "1       1002     Nimal           65           70         72  69.000000\n",
      "2       1003  Tharindu           88           90         95  91.000000\n",
      "3       1004     Kasun           50           45         60  51.666667\n",
      "4       1005  Shashini           80           75         85  80.000000\n"
     ]
    }
   ],
   "source": [
    "#  3 Question:\n",
    "df[\"Average\"] = (df['Assginment1'] + df['Assginment2'] + df['FinalExam']) / 3\n",
    "print(df)"
   ]
  },
  {
   "cell_type": "code",
   "execution_count": 78,
   "id": "169a7444",
   "metadata": {},
   "outputs": [
    {
     "name": "stdout",
     "output_type": "stream",
     "text": [
      "       Name  Average\n",
      "2  Tharindu     91.0\n"
     ]
    }
   ],
   "source": [
    "#  4 Question:\n",
    "highest_average_student = df[df[\"Average\"] == df[\"Average\"].max()]\n",
    "print(highest_average_student[[\"Name\", \"Average\"]])"
   ]
  },
  {
   "cell_type": "code",
   "execution_count": null,
   "id": "132fa8c0",
   "metadata": {},
   "outputs": [
    {
     "name": "stdout",
     "output_type": "stream",
     "text": [
      "Total Marks for all students: 361\n"
     ]
    }
   ],
   "source": [
    "#  5 Question:\n",
    "total_assignments = df[\"Assginment1\"].sum()\n",
    "print(\"Total Marks for all students:\",total_assignments)"
   ]
  },
  {
   "cell_type": "code",
   "execution_count": 80,
   "id": "f3d4d594",
   "metadata": {},
   "outputs": [
    {
     "name": "stdout",
     "output_type": "stream",
     "text": [
      "      John Doe  30     New York\n",
      "0   Jane Smith  25  Los Angeles\n",
      "1  Bob Johnson  40      Chicago\n",
      "<class 'pandas.core.frame.DataFrame'>\n"
     ]
    }
   ],
   "source": [
    "df = pd.read_csv('test.csv')\n",
    "print(df)\n",
    "print(type(df))"
   ]
  }
 ],
 "metadata": {
  "kernelspec": {
   "display_name": "Python 3",
   "language": "python",
   "name": "python3"
  },
  "language_info": {
   "codemirror_mode": {
    "name": "ipython",
    "version": 3
   },
   "file_extension": ".py",
   "mimetype": "text/x-python",
   "name": "python",
   "nbconvert_exporter": "python",
   "pygments_lexer": "ipython3",
   "version": "3.13.3"
  }
 },
 "nbformat": 4,
 "nbformat_minor": 5
}
