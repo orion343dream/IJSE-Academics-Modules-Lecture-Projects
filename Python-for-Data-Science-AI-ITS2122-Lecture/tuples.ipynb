{
 "cells": [
  {
   "cell_type": "code",
   "execution_count": 44,
   "id": "a0338e6b",
   "metadata": {},
   "outputs": [
    {
     "name": "stdout",
     "output_type": "stream",
     "text": [
      "('tennis', 'cricket', 'football')\n",
      "<class 'tuple'>\n",
      "cricket\n",
      "3\n"
     ]
    }
   ],
   "source": [
    "sports = (\"tennis\", \"cricket\", \"football\")\n",
    "\n",
    "print(sports)\n",
    "print(type(sports))\n",
    "print(sports[1])\n",
    "print(len(sports))"
   ]
  },
  {
   "cell_type": "code",
   "execution_count": 45,
   "id": "2259bd36",
   "metadata": {},
   "outputs": [
    {
     "name": "stdout",
     "output_type": "stream",
     "text": [
      "<class 'tuple'>\n",
      "1\n"
     ]
    }
   ],
   "source": [
    "sport = (\"cricket\",)\n",
    "\n",
    "print(type(sport))\n",
    "print(len(sport))"
   ]
  },
  {
   "cell_type": "code",
   "execution_count": 46,
   "id": "5bdd6f08",
   "metadata": {},
   "outputs": [
    {
     "name": "stdout",
     "output_type": "stream",
     "text": [
      "(True, 'cricket', 'football')\n",
      "('tennis', 30, True, 'cricket')\n",
      "(True, 'cricket', 'football')\n"
     ]
    }
   ],
   "source": [
    "my_tuple = (\"tennis\", 30, True, \"cricket\", \"football\")\n",
    "\n",
    "print(my_tuple[2:5])\n",
    "print(my_tuple[:4])\n",
    "print(my_tuple[2:])"
   ]
  },
  {
   "cell_type": "code",
   "execution_count": 47,
   "id": "bdd59db8",
   "metadata": {},
   "outputs": [
    {
     "name": "stdout",
     "output_type": "stream",
     "text": [
      "['apple', 'banana', 'orange'] <class 'list'>\n",
      "['apple', 'Grapes', 'orange']\n",
      "('apple', 'Grapes', 'orange') <class 'tuple'>\n"
     ]
    }
   ],
   "source": [
    "fruits = (\"apple\", \"banana\", \"orange\")\n",
    "\n",
    "x = list(fruits)\n",
    "print(x, type(x))\n",
    "\n",
    "x[1] = \"Grapes\"\n",
    "print(x)\n",
    "fruits = tuple(x)\n",
    "print(fruits, type(fruits))"
   ]
  },
  {
   "cell_type": "code",
   "execution_count": 48,
   "id": "c9a25950",
   "metadata": {},
   "outputs": [
    {
     "name": "stdout",
     "output_type": "stream",
     "text": [
      "b\n",
      "True\n"
     ]
    }
   ],
   "source": [
    "nested_tuple = ((1, 2, 3), (\"a\", \"b\", \"c\"), (True, False))\n",
    "\n",
    "print(nested_tuple[1][1])\n",
    "print(nested_tuple[2][0])"
   ]
  },
  {
   "cell_type": "code",
   "execution_count": 49,
   "id": "baf71be5",
   "metadata": {},
   "outputs": [
    {
     "name": "stdout",
     "output_type": "stream",
     "text": [
      "{'tennis', 'football', 'cricket'}\n",
      "<class 'set'>\n"
     ]
    }
   ],
   "source": [
    "sports = {\"tennis\", \"cricket\", \"football\"}\n",
    "print(sports)\n",
    "print(type(sports))"
   ]
  },
  {
   "cell_type": "code",
   "execution_count": 50,
   "id": "7f1696da",
   "metadata": {},
   "outputs": [
    {
     "name": "stdout",
     "output_type": "stream",
     "text": [
      "{'tennis', 'football', 'cricket', 'baseball'}\n"
     ]
    }
   ],
   "source": [
    "set_1 = {\"tennis\", \"cricket\", \"football\"}\n",
    "set_1.add(\"baseball\")\n",
    "\n",
    "print(set_1)"
   ]
  },
  {
   "cell_type": "code",
   "execution_count": 51,
   "id": "6b233997",
   "metadata": {},
   "outputs": [
    {
     "name": "stdout",
     "output_type": "stream",
     "text": [
      "{'banana', 'tennis', 'football', 'cricket', 'apple'}\n"
     ]
    }
   ],
   "source": [
    "set_1 = {\"tennis\", \"cricket\", \"football\"}\n",
    "set_2 = {\"apple\", \"banana\"}\n",
    "\n",
    "set_1.update(set_2)\n",
    "print(set_1)"
   ]
  },
  {
   "cell_type": "code",
   "execution_count": 52,
   "id": "f30781e8",
   "metadata": {},
   "outputs": [
    {
     "name": "stdout",
     "output_type": "stream",
     "text": [
      "{'tennis', 'football', 'apple', 'cricket', 'banana'}\n"
     ]
    }
   ],
   "source": [
    "set_1 = {\"tennis\", \"cricket\", \"football\"}\n",
    "list2 = [\"apple\", \"banana\"]\n",
    "\n",
    "set_1.update(list2)\n",
    "\n",
    "print(set_1)"
   ]
  },
  {
   "cell_type": "code",
   "execution_count": 53,
   "id": "ff0afcce",
   "metadata": {},
   "outputs": [
    {
     "ename": "TypeError",
     "evalue": "'dict' object is not callable",
     "output_type": "error",
     "traceback": [
      "\u001b[31m---------------------------------------------------------------------------\u001b[39m",
      "\u001b[31mTypeError\u001b[39m                                 Traceback (most recent call last)",
      "\u001b[36mCell\u001b[39m\u001b[36m \u001b[39m\u001b[32mIn[53]\u001b[39m\u001b[32m, line 3\u001b[39m\n\u001b[32m      1\u001b[39m list_1 = [\u001b[32m50\u001b[39m,\u001b[32m60\u001b[39m,\u001b[32m30\u001b[39m,\u001b[32m40\u001b[39m,\u001b[32m50\u001b[39m,\u001b[32m25\u001b[39m,\u001b[32m60\u001b[39m,\u001b[32m30\u001b[39m,\u001b[32m40\u001b[39m]\n\u001b[32m----> \u001b[39m\u001b[32m3\u001b[39m x = \u001b[38;5;28;43mset\u001b[39;49m\u001b[43m(\u001b[49m\u001b[43mlist_1\u001b[49m\u001b[43m)\u001b[49m\n\u001b[32m      4\u001b[39m \u001b[38;5;28mprint\u001b[39m(x)\n\u001b[32m      6\u001b[39m list_1 = \u001b[38;5;28mlist\u001b[39m(x)\n",
      "\u001b[31mTypeError\u001b[39m: 'dict' object is not callable"
     ]
    }
   ],
   "source": [
    "list_1 = [50,60,30,40,50,25,60,30,40]\n",
    "\n",
    "x = set(list_1)\n",
    "print(x)\n",
    "\n",
    "list_1 = list(x)\n",
    "print(list_1)\n",
    "\n",
    "list_1.sort()\n",
    "print(list_1)"
   ]
  },
  {
   "cell_type": "code",
   "execution_count": null,
   "id": "2265ee61",
   "metadata": {},
   "outputs": [
    {
     "name": "stdout",
     "output_type": "stream",
     "text": [
      "range(1, 7) <class 'range'>\n",
      "range(1, 12, 2)\n",
      "range(3, 24, 4)\n",
      "11 23\n"
     ]
    },
    {
     "ename": "IndexError",
     "evalue": "range object index out of range",
     "output_type": "error",
     "traceback": [
      "\u001b[31m---------------------------------------------------------------------------\u001b[39m",
      "\u001b[31mIndexError\u001b[39m                                Traceback (most recent call last)",
      "\u001b[36mCell\u001b[39m\u001b[36m \u001b[39m\u001b[32mIn[5]\u001b[39m\u001b[32m, line 12\u001b[39m\n\u001b[32m      9\u001b[39m \u001b[38;5;28mprint\u001b[39m(z)\n\u001b[32m     11\u001b[39m \u001b[38;5;28mprint\u001b[39m(z[\u001b[32m2\u001b[39m],z[\u001b[32m5\u001b[39m])\n\u001b[32m---> \u001b[39m\u001b[32m12\u001b[39m \u001b[38;5;28mprint\u001b[39m(\u001b[43mz\u001b[49m\u001b[43m[\u001b[49m\u001b[32;43m6\u001b[39;49m\u001b[43m]\u001b[49m)\n",
      "\u001b[31mIndexError\u001b[39m: range object index out of range"
     ]
    }
   ],
   "source": [
    "x = range (1,7,1)\n",
    "\n",
    "y = range(1,12,2)\n",
    "\n",
    "z =range(3,24,4)\n",
    "\n",
    "print(x,type(x))\n",
    "print(y)\n",
    "print(z)\n",
    "\n",
    "print(z[2],z[5])\n",
    "print(z[6])"
   ]
  },
  {
   "cell_type": "code",
   "execution_count": null,
   "id": "1171cebf",
   "metadata": {},
   "outputs": [
    {
     "name": "stdout",
     "output_type": "stream",
     "text": [
      "{'name': 'sugar', 'weight': '1kg', 'price': 130.35} <class 'dict'>\n"
     ]
    }
   ],
   "source": [
    "this_dict = {\n",
    "    \"name\" : \"sugar\",\n",
    "    \"weight\" : \"1kg\",\n",
    "    \"price\" : 130.35,\n",
    "   \n",
    "}\n",
    "\n",
    "print(this_dict,type(this_dict))"
   ]
  },
  {
   "cell_type": "code",
   "execution_count": null,
   "id": "ebf8f43d",
   "metadata": {},
   "outputs": [
    {
     "name": "stdout",
     "output_type": "stream",
     "text": [
      "1kg\n"
     ]
    }
   ],
   "source": [
    "print(this_dict[\"weight\"])"
   ]
  },
  {
   "cell_type": "code",
   "execution_count": null,
   "id": "9d871757",
   "metadata": {},
   "outputs": [
    {
     "name": "stdout",
     "output_type": "stream",
     "text": [
      "{'name': 'sugar', 'weight': '1kg', 'price': 150.5}\n"
     ]
    }
   ],
   "source": [
    "this_dict[\"price\"] = 150.50\n",
    "print(this_dict)"
   ]
  },
  {
   "cell_type": "code",
   "execution_count": null,
   "id": "8f8bcf15",
   "metadata": {},
   "outputs": [
    {
     "name": "stdout",
     "output_type": "stream",
     "text": [
      "{'name': 'sugar', 'weight': '1kg', 'price': 150.5, 'color': 'brown'}\n"
     ]
    }
   ],
   "source": [
    "this_dict[\"color\"] = \"brown\"\n",
    "print(this_dict)"
   ]
  },
  {
   "cell_type": "code",
   "execution_count": null,
   "id": "594a6c30",
   "metadata": {},
   "outputs": [
    {
     "name": "stdout",
     "output_type": "stream",
     "text": [
      "{'name': 'sugar', 'weight': '1kg', 'price': 130.35}\n",
      "{'name': 'sugar', 'weight': '1kg', 'price': 120.75, 'expire_date': 'Jan 2025'}\n"
     ]
    }
   ],
   "source": [
    "this_dict = {\n",
    "    \"name\" : \"sugar\",\n",
    "    \"weight\" : \"1kg\",\n",
    "    \"price\" : 130.35,\n",
    "   \n",
    "}\n",
    "print(this_dict)\n",
    "\n",
    "this_dict.update({\"expire_date\": \"Jan 2025\", \"price\": 120.75})\n",
    "\n",
    "print(this_dict)"
   ]
  },
  {
   "cell_type": "code",
   "execution_count": null,
   "id": "55e0b5af",
   "metadata": {},
   "outputs": [
    {
     "name": "stdout",
     "output_type": "stream",
     "text": [
      "{'name': 'sugar', 'weight': '1kg', 'price': 130.35}\n",
      "{'name': 'sugar', 'weight': '1kg'}\n"
     ]
    }
   ],
   "source": [
    "this_dict = {\n",
    "    \"name\" : \"sugar\",\n",
    "    \"weight\" : \"1kg\",\n",
    "    \"price\" : 130.35,\n",
    "   \n",
    "}\n",
    "print(this_dict)\n",
    "\n",
    "this_dict.popitem()\n",
    "print(this_dict)"
   ]
  },
  {
   "cell_type": "code",
   "execution_count": null,
   "id": "e842f8a9",
   "metadata": {},
   "outputs": [
    {
     "name": "stdout",
     "output_type": "stream",
     "text": [
      "{'name': 'sugar', 'price': 130.35}\n"
     ]
    },
    {
     "ename": "NameError",
     "evalue": "name 'this_dict' is not defined",
     "output_type": "error",
     "traceback": [
      "\u001b[31m---------------------------------------------------------------------------\u001b[39m",
      "\u001b[31mNameError\u001b[39m                                 Traceback (most recent call last)",
      "\u001b[36mCell\u001b[39m\u001b[36m \u001b[39m\u001b[32mIn[35]\u001b[39m\u001b[32m, line 11\u001b[39m\n\u001b[32m      8\u001b[39m \u001b[38;5;28mprint\u001b[39m(this_dict)\n\u001b[32m     10\u001b[39m \u001b[38;5;28;01mdel\u001b[39;00m this_dict\n\u001b[32m---> \u001b[39m\u001b[32m11\u001b[39m \u001b[38;5;28mprint\u001b[39m(\u001b[43mthis_dict\u001b[49m)\n",
      "\u001b[31mNameError\u001b[39m: name 'this_dict' is not defined"
     ]
    }
   ],
   "source": [
    "this_dict = {\n",
    "    \"name\" : \"sugar\",\n",
    "    \"weight\" : \"1kg\",\n",
    "    \"price\" : 130.35,\n",
    "   \n",
    "}\n",
    "del this_dict[\"weight\"]\n",
    "print(this_dict)\n",
    "\n",
    "del this_dict\n",
    "print(this_dict)"
   ]
  },
  {
   "cell_type": "code",
   "execution_count": null,
   "id": "241e952c",
   "metadata": {},
   "outputs": [
    {
     "name": "stdout",
     "output_type": "stream",
     "text": [
      "{}\n"
     ]
    }
   ],
   "source": [
    "this_dict = {\n",
    "    \"name\" : \"sugar\",\n",
    "    \"weight\" : \"1kg\",\n",
    "    \"price\" : 130.35,\n",
    "    \n",
    "}\n",
    "this_dict.clear()\n",
    "print(this_dict)"
   ]
  },
  {
   "cell_type": "code",
   "execution_count": null,
   "id": "3c4b5a9c",
   "metadata": {},
   "outputs": [
    {
     "name": "stdout",
     "output_type": "stream",
     "text": [
      "{'name': 'sugar', 'weight': '2Kg', 'price': 130.35}\n",
      "{'name': 'sugar', 'weight': '1kg', 'price': 130.35}\n"
     ]
    }
   ],
   "source": [
    "this_dict = {\n",
    "    \"name\" : \"sugar\",\n",
    "    \"weight\" : \"1kg\",\n",
    "    \"price\" : 130.35\n",
    "   \n",
    "}\n",
    "\n",
    "my_dict = this_dict.copy()\n",
    "\n",
    "this_dict[\"weight\"] = \"2Kg\"\n",
    "print(this_dict)\n",
    "print(my_dict)"
   ]
  },
  {
   "cell_type": "code",
   "execution_count": null,
   "id": "ae6edc4d",
   "metadata": {},
   "outputs": [
    {
     "name": "stdout",
     "output_type": "stream",
     "text": [
      "2\n",
      "2.3333333333333335\n",
      "1\n"
     ]
    }
   ],
   "source": [
    "x,y = 7, 3\n",
    "print(x // y )\n",
    "\n",
    "print(x / y )  \n",
    "\n",
    "print(x % y )"
   ]
  },
  {
   "cell_type": "code",
   "execution_count": null,
   "id": "e94e1405",
   "metadata": {},
   "outputs": [
    {
     "name": "stdout",
     "output_type": "stream",
     "text": [
      "False\n"
     ]
    }
   ],
   "source": [
    "x,y = 5,6\n",
    "print(x is y)"
   ]
  },
  {
   "cell_type": "code",
   "execution_count": null,
   "id": "84753048",
   "metadata": {},
   "outputs": [
    {
     "name": "stdout",
     "output_type": "stream",
     "text": [
      "True\n"
     ]
    }
   ],
   "source": [
    "x = 5\n",
    "\n",
    "y = x\n",
    "print(x is y)"
   ]
  },
  {
   "cell_type": "code",
   "execution_count": 1,
   "id": "fbb37639",
   "metadata": {},
   "outputs": [
    {
     "name": "stdout",
     "output_type": "stream",
     "text": [
      "True\n",
      "False\n"
     ]
    }
   ],
   "source": [
    "x = 5\n",
    "y = 5\n",
    "\n",
    "a = 257\n",
    "b = 257\n",
    "\n",
    "print(x is y)\n",
    "print(a is b)"
   ]
  },
  {
   "cell_type": "code",
   "execution_count": null,
   "id": "f4576993",
   "metadata": {},
   "outputs": [
    {
     "name": "stdout",
     "output_type": "stream",
     "text": [
      "True\n",
      "False\n"
     ]
    }
   ],
   "source": [
    "nums = [10, 8, 4, 3, 2]\n",
    "\n",
    "print(8 in nums)\n",
    "print(5 in nums)"
   ]
  },
  {
   "cell_type": "code",
   "execution_count": null,
   "id": "0ee806dc",
   "metadata": {},
   "outputs": [
    {
     "name": "stdout",
     "output_type": "stream",
     "text": [
      "0\n"
     ]
    }
   ],
   "source": [
    "x = 5  \n",
    "y = 10\n",
    "\n",
    "z = x & y\n",
    "print(z)"
   ]
  },
  {
   "cell_type": "code",
   "execution_count": null,
   "id": "e072eebd",
   "metadata": {},
   "outputs": [
    {
     "name": "stdout",
     "output_type": "stream",
     "text": [
      "15\n"
     ]
    }
   ],
   "source": [
    "x = 5  \n",
    "y = 10\n",
    "\n",
    "z = x ^ y\n",
    "print(z)"
   ]
  },
  {
   "cell_type": "code",
   "execution_count": null,
   "id": "5438255a",
   "metadata": {},
   "outputs": [
    {
     "name": "stdout",
     "output_type": "stream",
     "text": [
      "15\n"
     ]
    }
   ],
   "source": [
    "x = 5  \n",
    "y = 10\n",
    "\n",
    "z = x | y\n",
    "print(z)"
   ]
  },
  {
   "cell_type": "code",
   "execution_count": null,
   "id": "244284da",
   "metadata": {},
   "outputs": [
    {
     "name": "stdout",
     "output_type": "stream",
     "text": [
      "n is odd\n"
     ]
    }
   ],
   "source": [
    "n = 13\n",
    "\n",
    "if n % 2 == 0:\n",
    "    print(\"n is even\")\n",
    "else:\n",
    "    print(\"n is odd\")"
   ]
  },
  {
   "cell_type": "code",
   "execution_count": null,
   "id": "c791e7d2",
   "metadata": {},
   "outputs": [
    {
     "name": "stdout",
     "output_type": "stream",
     "text": [
      "non empty list\n"
     ]
    }
   ],
   "source": [
    "my_list1 = []\n",
    "\n",
    "if len(my_list1) == 0:\n",
    "    print(\"empty list\")\n",
    "\n",
    "else:\n",
    "    print(\"non empty list\")"
   ]
  },
  {
   "cell_type": "code",
   "execution_count": null,
   "id": "e3a46225",
   "metadata": {},
   "outputs": [
    {
     "name": "stdout",
     "output_type": "stream",
     "text": [
      "non empty list\n"
     ]
    }
   ],
   "source": [
    "list_1 = [1,5]\n",
    "\n",
    "if list_1:\n",
    "    print(\"non empty list\")\n",
    "\n",
    "else:\n",
    "    print(\"empty list\")"
   ]
  },
  {
   "cell_type": "code",
   "execution_count": null,
   "id": "3cef65d3",
   "metadata": {},
   "outputs": [
    {
     "name": "stdout",
     "output_type": "stream",
     "text": [
      "Circumperence of the circle is: 43.96\n"
     ]
    }
   ],
   "source": [
    "PI_VALUE = 3.14\n",
    "radius = 7\n",
    "\n",
    "if radius <= 0:\n",
    "    print(\"r should be possitive value\")\n",
    "\n",
    "else:\n",
    "    circumperence = 2 * PI_VALUE * radius\n",
    "    print(\"Circumperence of the circle is:\", circumperence)"
   ]
  },
  {
   "cell_type": "code",
   "execution_count": null,
   "id": "eb209ed7",
   "metadata": {},
   "outputs": [
    {
     "name": "stdout",
     "output_type": "stream",
     "text": [
      "hypotenuse of the triangle is: 13.0\n"
     ]
    }
   ],
   "source": [
    "side_1 = 5\n",
    "side_2 = 12\n",
    "\n",
    "if side_1 <= 0 and side_2 <= 0:\n",
    "    print(\"Side should be possitive values\")\n",
    "\n",
    "else:\n",
    "    hypotenuse = (side_1 ** 2 + side_2 ** 2) ** 0.5 \n",
    "    print(\"hypotenuse of the triangle is:\", hypotenuse)"
   ]
  },
  {
   "cell_type": "code",
   "execution_count": null,
   "id": "3afbf384",
   "metadata": {},
   "outputs": [
    {
     "name": "stdout",
     "output_type": "stream",
     "text": [
      "largest is: 10\n"
     ]
    }
   ],
   "source": [
    "num_1 = 6\n",
    "num_2 = 8\n",
    "num_3 = 10\n",
    "\n",
    "if num_1 > num_2 and num_1 < num_3:\n",
    "    print(\"largest is:\",num_1)\n",
    "\n",
    "elif num_2 > num_1 and num_2 > num_3:\n",
    "    print(\"largest is:\", num_2)\n",
    "\n",
    "else: \n",
    "    print(\"largest is:\", num_3)"
   ]
  },
  {
   "cell_type": "code",
   "execution_count": null,
   "id": "4502c89b",
   "metadata": {},
   "outputs": [
    {
     "name": "stdout",
     "output_type": "stream",
     "text": [
      "Descending order: 15 10 6\n"
     ]
    }
   ],
   "source": [
    "num_1 = 6\n",
    "num_2 = 15\n",
    "num_3 = 10\n",
    "\n",
    "if num_1 >= num_2 and num_1 >= num_3:\n",
    "    if num_2 >= num_3:\n",
    "        print(\"Descending order:\", num_1, num_2, num_3)\n",
    "    else:\n",
    "        print(\"Descending order:\", num_1, num_3, num_2)\n",
    "\n",
    "elif num_2 >= num_1 and num_2 >= num_3:\n",
    "    if num_1 >= num_3:\n",
    "        print(\"Descending order:\", num_2, num_1, num_3)\n",
    "    else:\n",
    "        print(\"Descending order:\", num_2, num_3, num_1)\n",
    "\n",
    "else:\n",
    "    if num_1 >= num_2:\n",
    "        print(\"Descending order:\", num_3, num_1, num_2)\n",
    "    else:\n",
    "        print(\"Descending order:\", num_3, num_2, num_1)"
   ]
  },
  {
   "cell_type": "code",
   "execution_count": null,
   "id": "a4e0ef6f",
   "metadata": {},
   "outputs": [
    {
     "name": "stdout",
     "output_type": "stream",
     "text": [
      "Even\n"
     ]
    }
   ],
   "source": [
    "x = 10\n",
    "result = \"Even\" if x % 2 == 0 else \"Odd\"\n",
    "print(result)"
   ]
  },
  {
   "cell_type": "code",
   "execution_count": 37,
   "id": "7e9cb567",
   "metadata": {},
   "outputs": [
    {
     "name": "stdout",
     "output_type": "stream",
     "text": [
      "Absolute value: 5\n"
     ]
    }
   ],
   "source": [
    "n = -5\n",
    "abs_value =  n if n >= 0 else -n\n",
    "print(\"Absolute value:\", abs_value)"
   ]
  },
  {
   "cell_type": "code",
   "execution_count": null,
   "id": "aa545574",
   "metadata": {},
   "outputs": [
    {
     "name": "stdout",
     "output_type": "stream",
     "text": [
      "Value is 10\n"
     ]
    }
   ],
   "source": [
    "variable = 10\n",
    "\n",
    "match variable:\n",
    "    case 10 : \n",
    "        print(\"Value is 10\")\n",
    "    case 11: \n",
    "        print(\"Value is 11\")\n",
    "    case _:\n",
    "        print(\"Value is neither 10 or 11\")"
   ]
  },
  {
   "cell_type": "code",
   "execution_count": null,
   "id": "1e907c54",
   "metadata": {},
   "outputs": [
    {
     "name": "stdout",
     "output_type": "stream",
     "text": [
      "Friday\n"
     ]
    }
   ],
   "source": [
    "num = int(input(\"Enter a number\"))\n",
    "\n",
    "match num:\n",
    "    case 1:\n",
    "        print(\"Monday\")\n",
    "    case 2:\n",
    "        print(\"Tuesday\")\n",
    "    case 3:\n",
    "        print(\"Wednseday\")\n",
    "    case 4:\n",
    "        print(\"Thursday\")\n",
    "    case 5:\n",
    "        print(\"Friday\")\n",
    "    case 6:\n",
    "        print(\"Saterday\")\n",
    "    case 7:\n",
    "        print(\"Sunday\")\n",
    "    case _:\n",
    "        print(\"Invalid input! Please enter a valid number\")"
   ]
  },
  {
   "cell_type": "code",
   "execution_count": null,
   "id": "72042881",
   "metadata": {},
   "outputs": [
    {
     "name": "stdout",
     "output_type": "stream",
     "text": [
      "stop\n"
     ]
    }
   ],
   "source": [
    "traffic_light_color = input(\"Enter a color\").lower()\n",
    "\n",
    "match  traffic_light_color:\n",
    "    case \"red\"| \"blinking\":\n",
    "        print (\"stop\")\n",
    "    case \"yellow\":\n",
    "        print (\"slow down\")\n",
    "    case \"green\":\n",
    "        print (\"go\")\n",
    "    case _:\n",
    "        print (\"Invalid color\")"
   ]
  },
  {
   "cell_type": "code",
   "execution_count": 15,
   "id": "5e8b54ad",
   "metadata": {},
   "outputs": [
    {
     "name": "stdout",
     "output_type": "stream",
     "text": [
      "14\n"
     ]
    }
   ],
   "source": [
    "numbers = [4, 3, 7]\n",
    "\n",
    "match numbers:\n",
    "    case [x,y] :\n",
    "        print(x*y)\n",
    "    case [x, y, z] :\n",
    "        print(x + y + z)\n",
    "    case _:\n",
    "        print(\"List must contain either 2 or 3 elements\")"
   ]
  },
  {
   "cell_type": "code",
   "execution_count": null,
   "id": "b8612535",
   "metadata": {},
   "outputs": [
    {
     "name": "stdout",
     "output_type": "stream",
     "text": [
      "tempreture: 80\n"
     ]
    }
   ],
   "source": [
    "tempreture = [50, 60, 20, 10]\n",
    "\n",
    "match tempreture:\n",
    "    case [x, y] :   \n",
    "        print(\"tempreture:\",(x + y)/2)\n",
    "    case [w, x, y, z]:\n",
    "        print(\"tempreture:\",(w + x) - (y + z))\n",
    "    case _:\n",
    "        print(\"Unsupported number of readings\")    "
   ]
  },
  {
   "cell_type": "code",
   "execution_count": 1,
   "id": "6d019415",
   "metadata": {},
   "outputs": [
    {
     "name": "stdout",
     "output_type": "stream",
     "text": [
      "12\n",
      "8\n",
      "18\n"
     ]
    }
   ],
   "source": [
    "my_list = [12, 5, 8, 9, 18]\n",
    "for item in my_list:\n",
    "    if item % 2 == 0:\n",
    "        print(item)"
   ]
  },
  {
   "cell_type": "code",
   "execution_count": null,
   "id": "2cd8f0a9",
   "metadata": {},
   "outputs": [
    {
     "name": "stdout",
     "output_type": "stream",
     "text": [
      "1\n",
      "4\n",
      "9\n",
      "16\n",
      "25\n",
      "36\n",
      "49\n",
      "64\n",
      "81\n",
      "100\n"
     ]
    }
   ],
   "source": [
    "for i in range(1,11):\n",
    "    print(i**2)"
   ]
  },
  {
   "cell_type": "code",
   "execution_count": null,
   "id": "e79a4089",
   "metadata": {},
   "outputs": [
    {
     "name": "stdout",
     "output_type": "stream",
     "text": [
      "1\n",
      "4\n",
      "9\n",
      "16\n",
      "25\n"
     ]
    }
   ],
   "source": [
    "number = int(input(\"Enter a number\"))\n",
    "for i in range(1, number):\n",
    "    print(i**2)"
   ]
  },
  {
   "cell_type": "code",
   "execution_count": null,
   "id": "de17b72b",
   "metadata": {},
   "outputs": [],
   "source": [
    "num = int(input(\"Enter a number\"))\n",
    "\n",
    "i = 1\n",
    "while i * i < num:\n",
    "    print(i * i)\n",
    "    i += 1"
   ]
  },
  {
   "cell_type": "code",
   "execution_count": null,
   "id": "011ed39d",
   "metadata": {},
   "outputs": [
    {
     "name": "stdout",
     "output_type": "stream",
     "text": [
      "1\n",
      "4\n"
     ]
    }
   ],
   "source": [
    "num = int(input(\"Enter a number\"))\n",
    "\n",
    "for i in range(1, num):\n",
    "    square = i * i\n",
    "    if square < num:\n",
    "        print(square)"
   ]
  },
  {
   "cell_type": "code",
   "execution_count": null,
   "id": "1dabd594",
   "metadata": {},
   "outputs": [
    {
     "name": "stdout",
     "output_type": "stream",
     "text": [
      "1\n",
      "4\n",
      "9\n"
     ]
    }
   ],
   "source": [
    "n = int(input(\"Enter a number\"))\n",
    "\n",
    "if n < 0 :\n",
    "    print(\"Enter a possitive number\")\n",
    "\n",
    "else:\n",
    "    for i in range(1, n):\n",
    "        square = i * i\n",
    "        if square < n:\n",
    "            print(square)\n",
    "        else:\n",
    "            break"
   ]
  },
  {
   "cell_type": "code",
   "execution_count": null,
   "id": "f07ca10c",
   "metadata": {},
   "outputs": [
    {
     "name": "stdout",
     "output_type": "stream",
     "text": [
      "Number not found\n"
     ]
    }
   ],
   "source": [
    "my_list = [10, 8, 20, 9, 11, 13, 18]\n",
    "\n",
    "num = int(input(\"Enter a number\"))\n",
    "\n",
    "found = False \n",
    "\n",
    "for i in my_list:\n",
    "    if i == num:\n",
    "        print(\"Number is found\")\n",
    "        found = True\n",
    "        break\n",
    "\n",
    "if not found:\n",
    "    print(\"Number not found\")"
   ]
  },
  {
   "cell_type": "code",
   "execution_count": null,
   "id": "43db1ca2",
   "metadata": {},
   "outputs": [
    {
     "name": "stdout",
     "output_type": "stream",
     "text": [
      "Number not found\n"
     ]
    }
   ],
   "source": [
    "my_list = [10, 8, 20, 9, 11, 13, 18]\n",
    "\n",
    "num = int(input(\"Enter a number\"))\n",
    "\n",
    "for i in my_list:\n",
    "    if i == num:\n",
    "        print(\"Number is found\")\n",
    "        break\n",
    "\n",
    "else: \n",
    "    print(\"Number not found\")"
   ]
  },
  {
   "cell_type": "code",
   "execution_count": 14,
   "id": "e73d7590",
   "metadata": {},
   "outputs": [
    {
     "name": "stdout",
     "output_type": "stream",
     "text": [
      "Maximum value is: 0\n"
     ]
    }
   ],
   "source": [
    "my_list = [0, -1, -5]\n",
    "\n",
    "maximum = my_list[0] \n",
    "\n",
    "for i in my_list:\n",
    "    if i > maximum:\n",
    "        maximum = i\n",
    "\n",
    "print(\"Maximum value is:\",maximum)"
   ]
  },
  {
   "cell_type": "code",
   "execution_count": null,
   "id": "db5e93b2",
   "metadata": {},
   "outputs": [
    {
     "name": "stdout",
     "output_type": "stream",
     "text": [
      "[25, 100, 144, 64, 49]\n"
     ]
    }
   ],
   "source": [
    "my_list = [5, 10, 12, 8, 7]\n",
    "\n",
    "results = [item ** 2 for item in my_list]\n",
    "print(results)"
   ]
  },
  {
   "cell_type": "code",
   "execution_count": null,
   "id": "5b8f8dd2",
   "metadata": {},
   "outputs": [
    {
     "name": "stdout",
     "output_type": "stream",
     "text": [
      "[4, 16, 36, 64, 100]\n"
     ]
    }
   ],
   "source": [
    "results = [i**2 for i00000 in range(1,11) if i % 2 == 0]\n",
    "print(results)"
   ]
  },
  {
   "cell_type": "code",
   "execution_count": 26,
   "id": "fb182653",
   "metadata": {},
   "outputs": [
    {
     "name": "stdout",
     "output_type": "stream",
     "text": [
      "1\n",
      "2\n",
      "3\n",
      "4\n"
     ]
    }
   ],
   "source": [
    "n = int(input(\"Enter a number\"))\n",
    "\n",
    "count = 0\n",
    "\n",
    "while count < n - 1 :\n",
    "    count += 1\n",
    "    print(count)"
   ]
  },
  {
   "cell_type": "code",
   "execution_count": null,
   "id": "5db39f60",
   "metadata": {},
   "outputs": [
    {
     "name": "stdout",
     "output_type": "stream",
     "text": [
      "Reverse number: 851\n"
     ]
    }
   ],
   "source": [
    "num = int(input(\"Input number: \"))\n",
    "\n",
    "reverse = 0\n",
    "\n",
    "while num != 0:\n",
    "    digit = num % 10\n",
    "    reverse = reverse * 10 + digit\n",
    "    num //= 10\n",
    "\n",
    "print(\"Reverse number:\", reverse)"
   ]
  }
 ],
 "metadata": {
  "kernelspec": {
   "display_name": "Python 3",
   "language": "python",
   "name": "python3"
  },
  "language_info": {
   "codemirror_mode": {
    "name": "ipython",
    "version": 3
   },
   "file_extension": ".py",
   "mimetype": "text/x-python",
   "name": "python",
   "nbconvert_exporter": "python",
   "pygments_lexer": "ipython3",
   "version": "3.13.3"
  }
 },
 "nbformat": 4,
 "nbformat_minor": 5
}
