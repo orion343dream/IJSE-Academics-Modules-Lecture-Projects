{
 "cells": [
  {
   "cell_type": "code",
   "execution_count": 1,
   "id": "7c471caa",
   "metadata": {},
   "outputs": [
    {
     "name": "stdout",
     "output_type": "stream",
     "text": [
      "44\n"
     ]
    }
   ],
   "source": [
    "my_list = [8, 9, 12, 15]\n",
    "print(sum(my_list))"
   ]
  },
  {
   "cell_type": "code",
   "execution_count": null,
   "id": "522e6b23",
   "metadata": {},
   "outputs": [
    {
     "data": {
      "text/plain": [
       "54"
      ]
     },
     "execution_count": 3,
     "metadata": {},
     "output_type": "execute_result"
    }
   ],
   "source": [
    "my_list = [8, 9, 12, 15]\n",
    "print(sum(my_list, 10))"
   ]
  },
  {
   "cell_type": "code",
   "execution_count": 1,
   "id": "48625836",
   "metadata": {},
   "outputs": [
    {
     "name": "stdout",
     "output_type": "stream",
     "text": [
      "True\n"
     ]
    }
   ],
   "source": [
    "x = \"Hello\"\n",
    "print(isinstance(x , (int,float,str)))"
   ]
  },
  {
   "cell_type": "code",
   "execution_count": 7,
   "id": "6d15f556",
   "metadata": {},
   "outputs": [
    {
     "name": "stdout",
     "output_type": "stream",
     "text": [
      " My name is Achini and I am 23 years old.\n"
     ]
    }
   ],
   "source": [
    "name = \"Achini\"\n",
    "age = 23\n",
    "\n",
    "print(f\" My name is {name} and I am {age} years old.\")"
   ]
  },
  {
   "cell_type": "code",
   "execution_count": 3,
   "id": "f92d315c",
   "metadata": {},
   "outputs": [
    {
     "name": "stdout",
     "output_type": "stream",
     "text": [
      "\n",
      "0\n"
     ]
    }
   ],
   "source": [
    "class Student:\n",
    "    name = \"\"\n",
    "    age = 0\n",
    "\n",
    "student_1 = Student()\n",
    "print(student_1.name)\n",
    "print(student_1.age)"
   ]
  },
  {
   "cell_type": "code",
   "execution_count": 11,
   "id": "ab9fa96b",
   "metadata": {},
   "outputs": [
    {
     "name": "stdout",
     "output_type": "stream",
     "text": [
      "car has 4 wheels\n",
      "This car drives to Galle on 4 wheels\n"
     ]
    }
   ],
   "source": [
    "class Car:\n",
    "    wheels = 4\n",
    "\n",
    "    def display_info(self):\n",
    "        print(f\"car has {self.wheels} wheels\")\n",
    "\n",
    "    def drive_to(self , destination):\n",
    "        print(f\"This car drives to {destination} on {self.wheels} wheels\")\n",
    "\n",
    "car_1 = Car()\n",
    "car_1.display_info()\n",
    "car_1.drive_to(\"Galle\")"
   ]
  },
  {
   "cell_type": "code",
   "execution_count": null,
   "id": "5e0a0409",
   "metadata": {},
   "outputs": [
    {
     "name": "stdout",
     "output_type": "stream",
     "text": [
      "Constructor has been called\n",
      "Blue color BMW drives to the office\n",
      "Blue color BMW runs in 4 wheels\n"
     ]
    }
   ],
   "source": [
    "class Car:\n",
    "    wheels = 4\n",
    "\n",
    "    def __init__(self, brand, color):\n",
    "        print(\"Constructor has been called\")\n",
    "        self.brand = brand\n",
    "        self.color = color\n",
    "\n",
    "    \n",
    "    def drive_to(self , destination):\n",
    "        print(f\"{self.color} color {self.brand} drives to the {destination}\")\n",
    "\n",
    "    def display_info(self):\n",
    "        print(f\"{self.color} color {self.brand} runs in {self.wheels} wheels\")\n",
    "\n",
    "car_1 = Car(\"BMW\", \"Blue\")\n",
    "car_1.drive_to(\"office\")\n",
    "car_1.display_info()"
   ]
  },
  {
   "cell_type": "code",
   "execution_count": null,
   "id": "42cd7a1a",
   "metadata": {},
   "outputs": [
    {
     "name": "stdout",
     "output_type": "stream",
     "text": [
      "The area is 200 and the perimeter is 60\n"
     ]
    }
   ],
   "source": [
    "class Rectangle:\n",
    "\n",
    "    def __init__(self, length, width):\n",
    "        self.length = length\n",
    "        self.width = width\n",
    "\n",
    "    \n",
    "    def area(self):\n",
    "        return self.length * self.width\n",
    "\n",
    "    \n",
    "    def get_perimeter(self):\n",
    "        return 2 * (self.width + self.length)\n",
    "    \n",
    "    def describe(self):\n",
    "        print(f\"The area is {self.area()} and the perimeter is {self.get_perimeter()}\")\n",
    "    \n",
    "\n",
    "rectangle_1 = Rectangle(10 , 20)\n",
    "rectangle_1.describe()"
   ]
  }
 ],
 "metadata": {
  "kernelspec": {
   "display_name": "Python 3",
   "language": "python",
   "name": "python3"
  },
  "language_info": {
   "codemirror_mode": {
    "name": "ipython",
    "version": 3
   },
   "file_extension": ".py",
   "mimetype": "text/x-python",
   "name": "python",
   "nbconvert_exporter": "python",
   "pygments_lexer": "ipython3",
   "version": "3.13.3"
  }
 },
 "nbformat": 4,
 "nbformat_minor": 5
}
