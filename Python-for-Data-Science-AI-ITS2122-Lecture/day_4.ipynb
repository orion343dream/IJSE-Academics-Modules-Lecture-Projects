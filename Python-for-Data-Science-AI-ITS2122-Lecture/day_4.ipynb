{
 "cells": [
  {
   "cell_type": "code",
   "execution_count": 1,
   "id": "43aea853",
   "metadata": {},
   "outputs": [
    {
     "name": "stdout",
     "output_type": "stream",
     "text": [
      "17\n"
     ]
    }
   ],
   "source": [
    "def add_numbers(a,b):\n",
    "    return a+b\n",
    "print(add_numbers(8,9))"
   ]
  },
  {
   "cell_type": "code",
   "execution_count": 15,
   "id": "16a41b99",
   "metadata": {},
   "outputs": [
    {
     "name": "stdout",
     "output_type": "stream",
     "text": [
      "Even numbers count: 4\n"
     ]
    }
   ],
   "source": [
    "# ?\n",
    "def count_even_numbers(my_list):\n",
    "    even_num_count = 0\n",
    "    for num in my_list:\n",
    "        if num % 2 == 0:\n",
    "            even_num_count += 1\n",
    "    return even_num_count\n",
    "\n",
    "numbers = [1, 2, 3, 4, 5, 6, 7, 8]\n",
    "result = count_even_numbers(numbers)\n",
    "print(\"Even numbers count:\", result)\n"
   ]
  },
  {
   "cell_type": "code",
   "execution_count": 16,
   "id": "1a93ddfd",
   "metadata": {},
   "outputs": [
    {
     "name": "stdout",
     "output_type": "stream",
     "text": [
      "28\n"
     ]
    }
   ],
   "source": [
    "def find_max(lst):\n",
    "   max_num = lst[0]\n",
    "\n",
    "   for num in lst:\n",
    "        if num > max_num:\n",
    "            max_num = num\n",
    "   return max_num\n",
    "\n",
    "print(find_max([1,10,5,20,28]))\n"
   ]
  },
  {
   "cell_type": "code",
   "execution_count": 22,
   "id": "59985bf3",
   "metadata": {},
   "outputs": [
    {
     "name": "stdout",
     "output_type": "stream",
     "text": [
      "[10, 20, 30, 40, 50]\n"
     ]
    }
   ],
   "source": [
    "def remove_duplicates(lst):\n",
    "    new_list = []\n",
    "\n",
    "    for item in lst:\n",
    "        if item not in new_list:\n",
    "            new_list.append(item)\n",
    "    return new_list\n",
    " \n",
    "my_list = [10,20,10,30,40,40,50]\n",
    "print(remove_duplicates(my_list))"
   ]
  },
  {
   "cell_type": "code",
   "execution_count": 32,
   "id": "c410a1fa",
   "metadata": {},
   "outputs": [
    {
     "name": "stdout",
     "output_type": "stream",
     "text": [
      "24\n"
     ]
    }
   ],
   "source": [
    "def factorial(n):\n",
    "    if n == 0:\n",
    "        return 1\n",
    "    result = 1\n",
    "\n",
    "    for i in range(1, n+1):\n",
    "        result *= i \n",
    "    return result\n",
    "\n",
    "print(factorial(4))\n"
   ]
  },
  {
   "cell_type": "code",
   "execution_count": 33,
   "id": "3314fa21",
   "metadata": {},
   "outputs": [
    {
     "name": "stdout",
     "output_type": "stream",
     "text": [
      "15\n",
      "17\n"
     ]
    }
   ],
   "source": [
    "def add_numbers(a, b = 8):\n",
    "\n",
    "    return a + b \n",
    "\n",
    "print(add_numbers(9,6))\n",
    "print(add_numbers(9))"
   ]
  },
  {
   "cell_type": "code",
   "execution_count": null,
   "id": "e3bd275a",
   "metadata": {},
   "outputs": [
    {
     "name": "stdout",
     "output_type": "stream",
     "text": [
      "32\n",
      "25\n"
     ]
    }
   ],
   "source": [
    "def power(num, exponent = 2):\n",
    "    return num ** exponent\n",
    "\n",
    "print(power(2,5))\n",
    "print(power(5))"
   ]
  },
  {
   "cell_type": "code",
   "execution_count": 38,
   "id": "93909930",
   "metadata": {},
   "outputs": [
    {
     "name": "stdout",
     "output_type": "stream",
     "text": [
      "a: 4\n",
      "b: 6\n",
      "a: 8\n",
      "b: 10\n"
     ]
    }
   ],
   "source": [
    "def display_numbers(a, b):\n",
    "    \n",
    "    print(\"a:\" , a)\n",
    "    print(\"b:\" , b)\n",
    "\n",
    "display_numbers(b = 6 , a  = 4)\n",
    "display_numbers(a = 8 , b  = 10)"
   ]
  },
  {
   "cell_type": "code",
   "execution_count": null,
   "id": "a92af844",
   "metadata": {},
   "outputs": [
    {
     "name": "stdout",
     "output_type": "stream",
     "text": [
      "9000.0\n",
      "10500.0\n"
     ]
    }
   ],
   "source": [
    "def calculate_salary(base_salary, bonus = 0, tax_rate = 0.1):\n",
    "    gross_salary  = base_salary + bonus\n",
    "    # tax = gross_salary * tax_rate\n",
    "    net_salary = gross_salary * (1 - tax_rate)\n",
    "\n",
    "    return net_salary\n",
    "\n",
    "print(calculate_salary(base_salary = 10000))\n",
    "print(calculate_salary(base_salary = 20000, bonus= 1000, tax_rate= 0.5))"
   ]
  },
  {
   "cell_type": "code",
   "execution_count": 45,
   "id": "bbbd3035",
   "metadata": {},
   "outputs": [
    {
     "name": "stdout",
     "output_type": "stream",
     "text": [
      "(5, 8, 9, 12)\n",
      "<class 'tuple'>\n",
      "5\n",
      "8\n",
      "9\n",
      "12\n"
     ]
    }
   ],
   "source": [
    "def arbitrary_positional_arguments(*args):\n",
    "    print(args)\n",
    "    print(type(args))\n",
    "    \n",
    "    for arg in args:\n",
    "        print(arg)\n",
    "\n",
    "arbitrary_positional_arguments(5,8,9,12)"
   ]
  },
  {
   "cell_type": "code",
   "execution_count": 4,
   "id": "cc6523a9",
   "metadata": {},
   "outputs": [
    {
     "name": "stdout",
     "output_type": "stream",
     "text": [
      "60\n",
      "1\n"
     ]
    }
   ],
   "source": [
    "def multiply_all(*args):\n",
    "\n",
    "    total = 1\n",
    "    for arg in args:\n",
    "        total *= arg\n",
    "    return total\n",
    "    \n",
    "print(multiply_all(1,5,2,6))\n",
    "print(multiply_all())"
   ]
  },
  {
   "cell_type": "code",
   "execution_count": 12,
   "id": "af159741",
   "metadata": {},
   "outputs": [
    {
     "name": "stdout",
     "output_type": "stream",
     "text": [
      "name\n",
      "age\n",
      "city\n",
      "John\n",
      "28\n",
      "Colombo\n",
      "key:  name value:  John\n",
      "key:  age value:  28\n",
      "key:  city value:  Colombo\n"
     ]
    }
   ],
   "source": [
    "dict = {\n",
    "    \"name\" : \"John\",\n",
    "    \"age\" : 28 ,\n",
    "    \"city\" : \"Colombo\"\n",
    "}\n",
    "\n",
    "for key in dict.keys():\n",
    "    print(key)\n",
    "\n",
    "for value in dict.values():\n",
    "    print(value)\n",
    "\n",
    "for key,value in dict.items():\n",
    "    print(\"key: \",key, \"value: \",value)"
   ]
  },
  {
   "cell_type": "code",
   "execution_count": 14,
   "id": "5f3821cd",
   "metadata": {},
   "outputs": [
    {
     "name": "stdout",
     "output_type": "stream",
     "text": [
      "{'name': 'John', 'age': 28, 'city': 'Colombo'}\n",
      "<class 'dict'>\n",
      "key:  name value:  John\n",
      "key:  age value:  28\n",
      "key:  city value:  Colombo\n"
     ]
    }
   ],
   "source": [
    "def arbitary_keyword_args(**kwargs):\n",
    "    print(kwargs)\n",
    "    print(type(kwargs))\n",
    "\n",
    "arbitary_keyword_args(name = \"John\", age =28, city = \"Colombo\")\n",
    "\n",
    "for key,value in dict.items():\n",
    "    print(\"key: \",key, \"value: \",value)"
   ]
  },
  {
   "cell_type": "code",
   "execution_count": 22,
   "id": "026d73b3",
   "metadata": {},
   "outputs": [
    {
     "name": "stdout",
     "output_type": "stream",
     "text": [
      "ID: S001 Name: Achini\n",
      "ID: S002 Name: Kamani\n",
      "ID: S003 Name: Saduni\n",
      "ID: S004 Name: Nimali\n",
      "ID: S005 Name: Malani\n"
     ]
    }
   ],
   "source": [
    "def add_students(**kwargs):\n",
    "    students = {}\n",
    "    for name, student_id in kwargs.items():\n",
    "        students[student_id] = name\n",
    "    return students\n",
    "\n",
    "def display_students(student_dict):\n",
    "    for name, student_id in student_dict.items():\n",
    "        print(\"ID:\", student_id,\"Name:\" ,name)\n",
    "\n",
    "student_info = add_students(\n",
    "    S001 = \"Achini\",\n",
    "    S002 = \"Kamani\",\n",
    "    S003 = \"Saduni\",\n",
    "    S004 = \"Nimali\",\n",
    "    S005 = \"Malani\",\n",
    "    )\n",
    "\n",
    "display_students(student_info)"
   ]
  },
  {
   "cell_type": "code",
   "execution_count": null,
   "id": "fea0d689",
   "metadata": {},
   "outputs": [
    {
     "name": "stdout",
     "output_type": "stream",
     "text": [
      "[36, 25, 9, 4, 81]\n"
     ]
    }
   ],
   "source": [
    "def find_squre(x):\n",
    "    return x ** 2\n",
    "\n",
    "my_list = [6, 5, 3, 2, 9]\n",
    "\n",
    "squre_values = map(find_squre, my_list)\n",
    "   \n",
    "print(list(squre_values))"
   ]
  },
  {
   "cell_type": "code",
   "execution_count": null,
   "id": "2552e01f",
   "metadata": {},
   "outputs": [
    {
     "data": {
      "text/plain": [
       "[32.0, 68.0, 98.6, 212.0, 14.0]"
      ]
     },
     "execution_count": 34,
     "metadata": {},
     "output_type": "execute_result"
    }
   ],
   "source": [
    "def convert_fahrenheit(c):\n",
    "    return (c * 9 / 5)+32\n",
    "\n",
    "celcious_values = [0, 20, 37, 100, -10]\n",
    "\n",
    "def display_fahrenheit(celcious_values):\n",
    "    fahrenhite_values = list(map(convert_fahrenheit, celcious_values))\n",
    "    return fahrenhite_values\n",
    "\n",
    "display_fahrenheit(celcious_values)"
   ]
  },
  {
   "cell_type": "code",
   "execution_count": 35,
   "id": "57fdc3a7",
   "metadata": {},
   "outputs": [
    {
     "name": "stdout",
     "output_type": "stream",
     "text": [
      "[2, 4, 6, 8, 10]\n"
     ]
    }
   ],
   "source": [
    "def is_even(num):\n",
    "    return num % 2 == 0 \n",
    "\n",
    "my_list = [1, 2, 3, 4, 5, 6, 7, 8, 9, 10]\n",
    "\n",
    "even_numbers = filter(is_even, my_list)\n",
    "print(list(even_numbers))"
   ]
  },
  {
   "cell_type": "code",
   "execution_count": 39,
   "id": "7a237d91",
   "metadata": {},
   "outputs": [
    {
     "name": "stdout",
     "output_type": "stream",
     "text": [
      "13\n"
     ]
    }
   ],
   "source": [
    "add = lambda x, y: x + y\n",
    "print(add(6,7))"
   ]
  },
  {
   "cell_type": "code",
   "execution_count": 38,
   "id": "e391810d",
   "metadata": {},
   "outputs": [
    {
     "name": "stdout",
     "output_type": "stream",
     "text": [
      "13\n"
     ]
    }
   ],
   "source": [
    "print((lambda x, y: x + y)(6,7))"
   ]
  },
  {
   "cell_type": "code",
   "execution_count": 42,
   "id": "0303b802",
   "metadata": {},
   "outputs": [
    {
     "name": "stdout",
     "output_type": "stream",
     "text": [
      "[4, 8, 12, 16]\n"
     ]
    }
   ],
   "source": [
    "print(list(map(lambda x: x * 2,[2, 4, 6, 8])))"
   ]
  },
  {
   "cell_type": "code",
   "execution_count": null,
   "id": "50e19a13",
   "metadata": {},
   "outputs": [
    {
     "name": "stdout",
     "output_type": "stream",
     "text": [
      "[12, 18, 22, 16]\n"
     ]
    }
   ],
   "source": [
    "print(list(filter(lambda x: x % 2 == 0, [12, 18, 17, 15, 22, 23, 16])))"
   ]
  },
  {
   "cell_type": "code",
   "execution_count": 50,
   "id": "afc01edc",
   "metadata": {},
   "outputs": [
    {
     "name": "stdout",
     "output_type": "stream",
     "text": [
      "5\n"
     ]
    }
   ],
   "source": [
    "max = ((lambda x, y : x if x > y else y) (5 , 3))\n",
    "\n",
    "print(max)"
   ]
  },
  {
   "cell_type": "code",
   "execution_count": null,
   "id": "a4a3f689",
   "metadata": {},
   "outputs": [
    {
     "name": "stdout",
     "output_type": "stream",
     "text": [
      "inner\n"
     ]
    }
   ],
   "source": [
    "def outer():\n",
    "    x = \"outer\"\n",
    "    def inner():\n",
    "        nonlocal x\n",
    "        x = \"inner\"\n",
    "    inner()\n",
    "    print(x)\n",
    "outer()"
   ]
  },
  {
   "cell_type": "code",
   "execution_count": null,
   "id": "6dfa6764",
   "metadata": {},
   "outputs": [],
   "source": []
  }
 ],
 "metadata": {
  "kernelspec": {
   "display_name": "Python 3",
   "language": "python",
   "name": "python3"
  },
  "language_info": {
   "codemirror_mode": {
    "name": "ipython",
    "version": 3
   },
   "file_extension": ".py",
   "mimetype": "text/x-python",
   "name": "python",
   "nbconvert_exporter": "python",
   "pygments_lexer": "ipython3",
   "version": "3.13.3"
  }
 },
 "nbformat": 4,
 "nbformat_minor": 5
}
